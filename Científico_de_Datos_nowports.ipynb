{
  "cells": [
    {
      "cell_type": "markdown",
      "metadata": {
        "id": "s7-vUWCu1lzH"
      },
      "source": [
        "# Table of contents\n",
        "\n",
        "\n",
        "\n",
        "* [0. Requirements](#0)\n",
        "\n",
        "* [1. Which roads appear to be the top 10 most dangerous roads of the Monterrey Metropolitan area?](#1)\n",
        " \n",
        "\n",
        "* [2. What's the age group with the overall highest number of reported collisions?](#2)\n",
        "\n",
        "* [3. What would be the odds for that person to have any type of positive alcohol ingestion opinion in \"Garza Sada\"?](#3)\n",
        "\n",
        "\n",
        "* [4. Why do you think we use the phrase \"appear to be\"in question 1? What would you need to be able to speak with more confidence about the answer to that question?](#4)\n",
        "\n",
        "* [5. What modeling project would you push to develop from the conclusions in this dataset?](#5)\n",
        "  * [5.1 AutoML y Auto-Sklearn](#5.1)\n",
        "  * [5.2 Pipeline profiler](#5.2)\n",
        "\n",
        "\n",
        "\n",
        "\n",
        "\n",
        "  \n",
        "\n",
        "\n",
        "  "
      ]
    },
    {
      "cell_type": "code",
      "execution_count": 1,
      "metadata": {
        "id": "AMSqwpxYu-Yi"
      },
      "outputs": [],
      "source": [
        "#cargamo las librerias\n",
        "# numpy and pandas for data manipulation\n",
        "import numpy as np\n",
        "import pandas as pd\n",
        "\n",
        "\n",
        "# matplotlib and seaborn for plotting\n",
        "import matplotlib.pyplot as plt\n",
        "import seaborn as sns\n",
        "from matplotlib.pylab import rcParams\n",
        "import seaborn as sns\n",
        "plt.style.use('fivethirtyeight')\n",
        "import warnings\n",
        "warnings.filterwarnings('ignore')\n",
        "%matplotlib inline\n",
        "\n",
        "#matplotlib utils\n",
        "import datetime\n",
        "import matplotlib.dates as mdates\n",
        "from matplotlib.ticker import MaxNLocator\n",
        "\n",
        "# Suppress warnings \n",
        "import warnings\n",
        "warnings.filterwarnings('ignore')"
      ]
    },
    {
      "cell_type": "code",
      "execution_count": null,
      "metadata": {
        "id": "WNlln-h6KIQs"
      },
      "outputs": [],
      "source": [
        "# auto-sklearn dependencies\n",
        "# Simply adding &> /dev/null to the tail of any command will silence its output outside of any errors that may arise.\n",
        "!apt-get install swig -y &> /dev/null\n",
        "!pip install Cython numpy &> /dev/null\n",
        "!pip install auto-sklearn &> /dev/null\n",
        "import sklearn\n",
        "!pip install scipy==1.7.0 &> /dev/null\n",
        "\n",
        "#import autosklearn.classification as classifier\n",
        "from sklearn.model_selection import train_test_split\n",
        "#evaluation dependencies\n",
        "from sklearn.metrics import accuracy_score, roc_auc_score, confusion_matrix\n",
        "import pickle\n",
        "!pip install pipelineprofiler &> /dev/null\n",
        "import PipelineProfiler"
      ]
    },
    {
      "cell_type": "markdown",
      "metadata": {
        "id": "uiOs0yD_zkul"
      },
      "source": [
        "<a id=\"1\"></a>\n",
        "\n",
        "# 1. Introducción\n",
        "<p>El proceso estándar entre industrias para la minería de datos, conocido como <b> CRISP-DM </b> (Cross-industry standard process for data mining), es un modelo de proceso estándar abierto que describe enfoques comunes utilizados por expertos en minería de datos o ciencia de datos. Es el modelo de análisis más utilizado en la industria.</p>\n",
        "\n",
        " <p> En escencia, <b> CRISP DM </b> es un set de buenas practicas para ayudar a planear, organizar y ejecutar projectos de data mining or data analytics  </p>\n",
        " \n",
        " <p>El análisis presentado a continuación se realizó siguiendo las líneas de <b> CRISP DM</b> </p>\n",
        "\n",
        "\n",
        "<center> <p><img class = \"center\" src=\"https://upload.wikimedia.org/wikipedia/commons/thumb/b/b9/CRISP-DM_Process_Diagram.png/319px-CRISP-DM_Process_Diagram.png\" width=\"400\" height=\"400 alt=\"CRISP-DM\"></p> </center>"
      ]
    },
    {
      "cell_type": "markdown",
      "metadata": {
        "id": "wlBl5SGN5BxX"
      },
      "source": [
        "<a id=\"0\"></a>\n",
        "\n",
        "# 0. Requirements (Buisiness Understanding)\n",
        "\n",
        "#### Case: Monterrey Metropolitan Area\n",
        "\n",
        "The dataset you're given (MTY.csv) contains information about vehicle collision reports in the Monterrey Metropolitan area.\n",
        "\n",
        "Analyze the data and answer the following questions based on it.\n",
        "\n",
        "\n",
        "<font color='orange'> Questions </font>\n",
        "\n",
        "\n",
        "1. Which roads appear to be the top 10 most dangerous roads of the Monterrey Metropolitan area?\n",
        "\n",
        "2. What's the age group with the overall highest number of reported collisions? You can consider any age groupings for the purposes of this question. Explain this in a graphical way.\n",
        "\n",
        "3. If you were to see a collision in the \"Garza Sada\" road, What would be the odds for that person to have any type of positive alcohol ingestion opinion?\n",
        "\n",
        "4. Why do you think we use the phrase \"appear to be\"in question 1? What would you need to be able to speak with more confidence about the answer to that question?\n",
        "\n",
        "5. What modeling project would you push to develop from the conclusions in this dataset?\"\n",
        "\n"
      ]
    },
    {
      "cell_type": "code",
      "execution_count": null,
      "metadata": {
        "colab": {
          "base_uri": "https://localhost:8080/"
        },
        "id": "0yKCeQvSNFpz",
        "outputId": "dfe5bbf9-0e78-40ee-bc7d-a2a650e13db3"
      },
      "outputs": [
        {
          "name": "stdout",
          "output_type": "stream",
          "text": [
            "Cloning into 'nowports_itv'...\n",
            "remote: Enumerating objects: 6, done.\u001b[K\n",
            "remote: Counting objects: 100% (6/6), done.\u001b[K\n",
            "remote: Compressing objects: 100% (5/5), done.\u001b[K\n",
            "remote: Total 6 (delta 0), reused 6 (delta 0), pack-reused 0\u001b[K\n",
            "Unpacking objects: 100% (6/6), done.\n"
          ]
        }
      ],
      "source": [
        "#load dataset from repository\n",
        "!rm -rf nowports_itv\n",
        "!git clone https://github.com/EiderDiaz/nowports_itv\n"
      ]
    },
    {
      "cell_type": "code",
      "execution_count": 182,
      "metadata": {
        "colab": {
          "base_uri": "https://localhost:8080/",
          "height": 830
        },
        "id": "UGDD6SSly4m4",
        "outputId": "471f41d5-34d2-4ee8-c00f-83817b79d19c"
      },
      "outputs": [
        {
          "data": {
            "text/html": [
              "<div>\n",
              "<style scoped>\n",
              "    .dataframe tbody tr th:only-of-type {\n",
              "        vertical-align: middle;\n",
              "    }\n",
              "\n",
              "    .dataframe tbody tr th {\n",
              "        vertical-align: top;\n",
              "    }\n",
              "\n",
              "    .dataframe thead th {\n",
              "        text-align: right;\n",
              "    }\n",
              "</style>\n",
              "<table border=\"1\" class=\"dataframe\">\n",
              "  <thead>\n",
              "    <tr style=\"text-align: right;\">\n",
              "      <th></th>\n",
              "      <th>Column</th>\n",
              "      <th>Calle</th>\n",
              "      <th>Causa</th>\n",
              "      <th>Ciudad</th>\n",
              "      <th>Cruce</th>\n",
              "      <th>Fecha</th>\n",
              "      <th>Hora</th>\n",
              "      <th>ID</th>\n",
              "      <th>Latitud</th>\n",
              "      <th>Lesionados</th>\n",
              "      <th>...</th>\n",
              "      <th>V2_Uso de Cinturón</th>\n",
              "      <th>V3_Arresto</th>\n",
              "      <th>V3_Dictamen</th>\n",
              "      <th>V3_Edad</th>\n",
              "      <th>V3_Estatus Licencia</th>\n",
              "      <th>V3_Género</th>\n",
              "      <th>V3_No. De Fallecidos</th>\n",
              "      <th>V3_No. De Lesionados</th>\n",
              "      <th>V3_Tipo de Vehículo</th>\n",
              "      <th>V3_Uso de Cinturón</th>\n",
              "    </tr>\n",
              "  </thead>\n",
              "  <tbody>\n",
              "    <tr>\n",
              "      <th>0</th>\n",
              "      <td>0</td>\n",
              "      <td>CAMINO REAL</td>\n",
              "      <td>NO RESPETAR SEÑALAMIENTOS</td>\n",
              "      <td>Monterrey</td>\n",
              "      <td>SANTOS  PALOMO</td>\n",
              "      <td>2016-05-01 00:00:00</td>\n",
              "      <td>1899-12-30 00:00:00</td>\n",
              "      <td>MTY1</td>\n",
              "      <td>25.77443</td>\n",
              "      <td>No</td>\n",
              "      <td>...</td>\n",
              "      <td>NaN</td>\n",
              "      <td>NaN</td>\n",
              "      <td>NaN</td>\n",
              "      <td>NaN</td>\n",
              "      <td>NaN</td>\n",
              "      <td>NaN</td>\n",
              "      <td>NaN</td>\n",
              "      <td>NaN</td>\n",
              "      <td>NaN</td>\n",
              "      <td>NaN</td>\n",
              "    </tr>\n",
              "    <tr>\n",
              "      <th>1</th>\n",
              "      <td>1</td>\n",
              "      <td>BERNARDO REYES</td>\n",
              "      <td>Otros</td>\n",
              "      <td>Monterrey</td>\n",
              "      <td>FIDEL VELAZQUEZ</td>\n",
              "      <td>2016-05-01 00:00:00</td>\n",
              "      <td>1899-12-30 00:00:00</td>\n",
              "      <td>MTY10</td>\n",
              "      <td>25.724161</td>\n",
              "      <td>No</td>\n",
              "      <td>...</td>\n",
              "      <td>NaN</td>\n",
              "      <td>NaN</td>\n",
              "      <td>NaN</td>\n",
              "      <td>NaN</td>\n",
              "      <td>NaN</td>\n",
              "      <td>NaN</td>\n",
              "      <td>NaN</td>\n",
              "      <td>NaN</td>\n",
              "      <td>NaN</td>\n",
              "      <td>NaN</td>\n",
              "    </tr>\n",
              "    <tr>\n",
              "      <th>2</th>\n",
              "      <td>2</td>\n",
              "      <td>BERNARDO REYES</td>\n",
              "      <td>Otros</td>\n",
              "      <td>Monterrey</td>\n",
              "      <td>REFORMA</td>\n",
              "      <td>2016-05-01 00:00:00</td>\n",
              "      <td>1899-12-30 00:00:00</td>\n",
              "      <td>MTY11</td>\n",
              "      <td>25.685874</td>\n",
              "      <td>No</td>\n",
              "      <td>...</td>\n",
              "      <td>NaN</td>\n",
              "      <td>NaN</td>\n",
              "      <td>NaN</td>\n",
              "      <td>NaN</td>\n",
              "      <td>NaN</td>\n",
              "      <td>NaN</td>\n",
              "      <td>NaN</td>\n",
              "      <td>NaN</td>\n",
              "      <td>NaN</td>\n",
              "      <td>NaN</td>\n",
              "    </tr>\n",
              "    <tr>\n",
              "      <th>3</th>\n",
              "      <td>3</td>\n",
              "      <td>LINCOLN</td>\n",
              "      <td>INVADIR CARRIL</td>\n",
              "      <td>Monterrey</td>\n",
              "      <td>CUMBRES DEL SOL</td>\n",
              "      <td>2016-05-01 00:00:00</td>\n",
              "      <td>1899-12-30 00:00:00</td>\n",
              "      <td>MTY12</td>\n",
              "      <td>25.797401</td>\n",
              "      <td>No</td>\n",
              "      <td>...</td>\n",
              "      <td>NaN</td>\n",
              "      <td>NaN</td>\n",
              "      <td>NaN</td>\n",
              "      <td>NaN</td>\n",
              "      <td>NaN</td>\n",
              "      <td>NaN</td>\n",
              "      <td>NaN</td>\n",
              "      <td>NaN</td>\n",
              "      <td>NaN</td>\n",
              "      <td>NaN</td>\n",
              "    </tr>\n",
              "    <tr>\n",
              "      <th>4</th>\n",
              "      <td>4</td>\n",
              "      <td>MADERO</td>\n",
              "      <td>NO GUARDAR DISTANCIA</td>\n",
              "      <td>Monterrey</td>\n",
              "      <td>PABLO A DE LA GARZA</td>\n",
              "      <td>2016-05-01 00:00:00</td>\n",
              "      <td>1899-12-30 00:00:00</td>\n",
              "      <td>MTY13</td>\n",
              "      <td>25.682219</td>\n",
              "      <td>No</td>\n",
              "      <td>...</td>\n",
              "      <td>NaN</td>\n",
              "      <td>NaN</td>\n",
              "      <td>NaN</td>\n",
              "      <td>NaN</td>\n",
              "      <td>NaN</td>\n",
              "      <td>NaN</td>\n",
              "      <td>NaN</td>\n",
              "      <td>NaN</td>\n",
              "      <td>NaN</td>\n",
              "      <td>NaN</td>\n",
              "    </tr>\n",
              "    <tr>\n",
              "      <th>...</th>\n",
              "      <td>...</td>\n",
              "      <td>...</td>\n",
              "      <td>...</td>\n",
              "      <td>...</td>\n",
              "      <td>...</td>\n",
              "      <td>...</td>\n",
              "      <td>...</td>\n",
              "      <td>...</td>\n",
              "      <td>...</td>\n",
              "      <td>...</td>\n",
              "      <td>...</td>\n",
              "      <td>...</td>\n",
              "      <td>...</td>\n",
              "      <td>...</td>\n",
              "      <td>...</td>\n",
              "      <td>...</td>\n",
              "      <td>...</td>\n",
              "      <td>...</td>\n",
              "      <td>...</td>\n",
              "      <td>...</td>\n",
              "      <td>...</td>\n",
              "    </tr>\n",
              "    <tr>\n",
              "      <th>55008</th>\n",
              "      <td>25251</td>\n",
              "      <td>5 DE MAYO</td>\n",
              "      <td>NaN</td>\n",
              "      <td>San Pedro</td>\n",
              "      <td>DEGOLLADO</td>\n",
              "      <td>2017-04-30 00:00:00</td>\n",
              "      <td>09:12:00 a.m.</td>\n",
              "      <td>SP2212</td>\n",
              "      <td>NaN</td>\n",
              "      <td>NaN</td>\n",
              "      <td>...</td>\n",
              "      <td>NaN</td>\n",
              "      <td>NaN</td>\n",
              "      <td>NaN</td>\n",
              "      <td>NaN</td>\n",
              "      <td>NaN</td>\n",
              "      <td>NaN</td>\n",
              "      <td>NaN</td>\n",
              "      <td>NaN</td>\n",
              "      <td>NaN</td>\n",
              "      <td>NaN</td>\n",
              "    </tr>\n",
              "    <tr>\n",
              "      <th>55009</th>\n",
              "      <td>25252</td>\n",
              "      <td>MANUEL SANTOS</td>\n",
              "      <td>NaN</td>\n",
              "      <td>San Pedro</td>\n",
              "      <td>HUMBERTO LOBO</td>\n",
              "      <td>2017-04-30 00:00:00</td>\n",
              "      <td>02:17:00 p.m.</td>\n",
              "      <td>SP2213</td>\n",
              "      <td>NaN</td>\n",
              "      <td>NaN</td>\n",
              "      <td>...</td>\n",
              "      <td>NaN</td>\n",
              "      <td>NaN</td>\n",
              "      <td>NaN</td>\n",
              "      <td>NaN</td>\n",
              "      <td>NaN</td>\n",
              "      <td>NaN</td>\n",
              "      <td>NaN</td>\n",
              "      <td>NaN</td>\n",
              "      <td>NaN</td>\n",
              "      <td>NaN</td>\n",
              "    </tr>\n",
              "    <tr>\n",
              "      <th>55010</th>\n",
              "      <td>25253</td>\n",
              "      <td>CALZADA DEL VALLE</td>\n",
              "      <td>NaN</td>\n",
              "      <td>San Pedro</td>\n",
              "      <td>CALZADA SAN PEDRO</td>\n",
              "      <td>2017-04-30 00:00:00</td>\n",
              "      <td>03:41:00 p.m.</td>\n",
              "      <td>SP2214</td>\n",
              "      <td>NaN</td>\n",
              "      <td>NaN</td>\n",
              "      <td>...</td>\n",
              "      <td>NaN</td>\n",
              "      <td>NaN</td>\n",
              "      <td>NaN</td>\n",
              "      <td>NaN</td>\n",
              "      <td>NaN</td>\n",
              "      <td>NaN</td>\n",
              "      <td>NaN</td>\n",
              "      <td>NaN</td>\n",
              "      <td>NaN</td>\n",
              "      <td>NaN</td>\n",
              "    </tr>\n",
              "    <tr>\n",
              "      <th>55011</th>\n",
              "      <td>25254</td>\n",
              "      <td>JOSE VASCONCELOS</td>\n",
              "      <td>NaN</td>\n",
              "      <td>San Pedro</td>\n",
              "      <td>CALZADA SAN PEDRO</td>\n",
              "      <td>2017-04-30 00:00:00</td>\n",
              "      <td>07:41:00 p.m.</td>\n",
              "      <td>SP2215</td>\n",
              "      <td>NaN</td>\n",
              "      <td>NaN</td>\n",
              "      <td>...</td>\n",
              "      <td>NaN</td>\n",
              "      <td>NaN</td>\n",
              "      <td>NaN</td>\n",
              "      <td>NaN</td>\n",
              "      <td>NaN</td>\n",
              "      <td>NaN</td>\n",
              "      <td>NaN</td>\n",
              "      <td>NaN</td>\n",
              "      <td>NaN</td>\n",
              "      <td>NaN</td>\n",
              "    </tr>\n",
              "    <tr>\n",
              "      <th>55012</th>\n",
              "      <td>25255</td>\n",
              "      <td>JOSE VASCONCELOS</td>\n",
              "      <td>NaN</td>\n",
              "      <td>San Pedro</td>\n",
              "      <td>J. M. MONTEMAYOR</td>\n",
              "      <td>2017-04-30 00:00:00</td>\n",
              "      <td>09:03:00 p.m.</td>\n",
              "      <td>SP2216</td>\n",
              "      <td>NaN</td>\n",
              "      <td>NaN</td>\n",
              "      <td>...</td>\n",
              "      <td>NaN</td>\n",
              "      <td>NaN</td>\n",
              "      <td>NaN</td>\n",
              "      <td>NaN</td>\n",
              "      <td>NaN</td>\n",
              "      <td>NaN</td>\n",
              "      <td>NaN</td>\n",
              "      <td>NaN</td>\n",
              "      <td>NaN</td>\n",
              "      <td>NaN</td>\n",
              "    </tr>\n",
              "  </tbody>\n",
              "</table>\n",
              "<p>55013 rows × 50 columns</p>\n",
              "</div>"
            ],
            "text/plain": [
              "       Column              Calle                      Causa     Ciudad  \\\n",
              "0           0        CAMINO REAL  NO RESPETAR SEÑALAMIENTOS  Monterrey   \n",
              "1           1     BERNARDO REYES                      Otros  Monterrey   \n",
              "2           2     BERNARDO REYES                      Otros  Monterrey   \n",
              "3           3            LINCOLN             INVADIR CARRIL  Monterrey   \n",
              "4           4             MADERO       NO GUARDAR DISTANCIA  Monterrey   \n",
              "...       ...                ...                        ...        ...   \n",
              "55008   25251          5 DE MAYO                        NaN  San Pedro   \n",
              "55009   25252      MANUEL SANTOS                        NaN  San Pedro   \n",
              "55010   25253  CALZADA DEL VALLE                        NaN  San Pedro   \n",
              "55011   25254   JOSE VASCONCELOS                        NaN  San Pedro   \n",
              "55012   25255   JOSE VASCONCELOS                        NaN  San Pedro   \n",
              "\n",
              "                     Cruce                Fecha                 Hora      ID  \\\n",
              "0           SANTOS  PALOMO  2016-05-01 00:00:00  1899-12-30 00:00:00    MTY1   \n",
              "1          FIDEL VELAZQUEZ  2016-05-01 00:00:00  1899-12-30 00:00:00   MTY10   \n",
              "2                  REFORMA  2016-05-01 00:00:00  1899-12-30 00:00:00   MTY11   \n",
              "3          CUMBRES DEL SOL  2016-05-01 00:00:00  1899-12-30 00:00:00   MTY12   \n",
              "4      PABLO A DE LA GARZA  2016-05-01 00:00:00  1899-12-30 00:00:00   MTY13   \n",
              "...                    ...                  ...                  ...     ...   \n",
              "55008            DEGOLLADO  2017-04-30 00:00:00        09:12:00 a.m.  SP2212   \n",
              "55009        HUMBERTO LOBO  2017-04-30 00:00:00        02:17:00 p.m.  SP2213   \n",
              "55010    CALZADA SAN PEDRO  2017-04-30 00:00:00        03:41:00 p.m.  SP2214   \n",
              "55011    CALZADA SAN PEDRO  2017-04-30 00:00:00        07:41:00 p.m.  SP2215   \n",
              "55012     J. M. MONTEMAYOR  2017-04-30 00:00:00        09:03:00 p.m.  SP2216   \n",
              "\n",
              "         Latitud Lesionados  ... V2_Uso de Cinturón V3_Arresto V3_Dictamen  \\\n",
              "0       25.77443         No  ...                NaN        NaN         NaN   \n",
              "1      25.724161         No  ...                NaN        NaN         NaN   \n",
              "2      25.685874         No  ...                NaN        NaN         NaN   \n",
              "3      25.797401         No  ...                NaN        NaN         NaN   \n",
              "4      25.682219         No  ...                NaN        NaN         NaN   \n",
              "...          ...        ...  ...                ...        ...         ...   \n",
              "55008        NaN        NaN  ...                NaN        NaN         NaN   \n",
              "55009        NaN        NaN  ...                NaN        NaN         NaN   \n",
              "55010        NaN        NaN  ...                NaN        NaN         NaN   \n",
              "55011        NaN        NaN  ...                NaN        NaN         NaN   \n",
              "55012        NaN        NaN  ...                NaN        NaN         NaN   \n",
              "\n",
              "      V3_Edad  V3_Estatus Licencia  V3_Género V3_No. De Fallecidos  \\\n",
              "0         NaN                  NaN        NaN                  NaN   \n",
              "1         NaN                  NaN        NaN                  NaN   \n",
              "2         NaN                  NaN        NaN                  NaN   \n",
              "3         NaN                  NaN        NaN                  NaN   \n",
              "4         NaN                  NaN        NaN                  NaN   \n",
              "...       ...                  ...        ...                  ...   \n",
              "55008     NaN                  NaN        NaN                  NaN   \n",
              "55009     NaN                  NaN        NaN                  NaN   \n",
              "55010     NaN                  NaN        NaN                  NaN   \n",
              "55011     NaN                  NaN        NaN                  NaN   \n",
              "55012     NaN                  NaN        NaN                  NaN   \n",
              "\n",
              "      V3_No. De Lesionados V3_Tipo de Vehículo V3_Uso de Cinturón  \n",
              "0                      NaN                 NaN                NaN  \n",
              "1                      NaN                 NaN                NaN  \n",
              "2                      NaN                 NaN                NaN  \n",
              "3                      NaN                 NaN                NaN  \n",
              "4                      NaN                 NaN                NaN  \n",
              "...                    ...                 ...                ...  \n",
              "55008                  NaN                 NaN                NaN  \n",
              "55009                  NaN                 NaN                NaN  \n",
              "55010                  NaN                 NaN                NaN  \n",
              "55011                  NaN                 NaN                NaN  \n",
              "55012                  NaN                 NaN                NaN  \n",
              "\n",
              "[55013 rows x 50 columns]"
            ]
          },
          "execution_count": 182,
          "metadata": {},
          "output_type": "execute_result"
        }
      ],
      "source": [
        "#read dataset into pandas dataframe\n",
        "mty_df = pd.read_csv(\"MTY.csv\")\n",
        "mty_df\n"
      ]
    },
    {
      "cell_type": "code",
      "execution_count": 77,
      "metadata": {
        "colab": {
          "base_uri": "https://localhost:8080/",
          "height": 297
        },
        "id": "Nn79aOBDPynP",
        "outputId": "9d0daf0b-f531-4db0-e562-443f1ea02bda"
      },
      "outputs": [
        {
          "data": {
            "text/html": [
              "<div>\n",
              "<style scoped>\n",
              "    .dataframe tbody tr th:only-of-type {\n",
              "        vertical-align: middle;\n",
              "    }\n",
              "\n",
              "    .dataframe tbody tr th {\n",
              "        vertical-align: top;\n",
              "    }\n",
              "\n",
              "    .dataframe thead th {\n",
              "        text-align: right;\n",
              "    }\n",
              "</style>\n",
              "<table border=\"1\" class=\"dataframe\">\n",
              "  <thead>\n",
              "    <tr style=\"text-align: right;\">\n",
              "      <th></th>\n",
              "      <th>Column</th>\n",
              "      <th>Número  total de lesionados</th>\n",
              "      <th>Número total de muertos</th>\n",
              "      <th>V1_Edad</th>\n",
              "      <th>V1_No. De Lesionados</th>\n",
              "      <th>V2_No. De Lesionados</th>\n",
              "      <th>V3_No. De Lesionados</th>\n",
              "    </tr>\n",
              "  </thead>\n",
              "  <tbody>\n",
              "    <tr>\n",
              "      <th>count</th>\n",
              "      <td>55013.000000</td>\n",
              "      <td>28007.000000</td>\n",
              "      <td>21491.000000</td>\n",
              "      <td>4.614500e+04</td>\n",
              "      <td>22314.000000</td>\n",
              "      <td>17743.000000</td>\n",
              "      <td>10567.000000</td>\n",
              "    </tr>\n",
              "    <tr>\n",
              "      <th>mean</th>\n",
              "      <td>13844.814607</td>\n",
              "      <td>0.076195</td>\n",
              "      <td>0.003164</td>\n",
              "      <td>1.021139e+11</td>\n",
              "      <td>0.035404</td>\n",
              "      <td>0.040861</td>\n",
              "      <td>0.002271</td>\n",
              "    </tr>\n",
              "    <tr>\n",
              "      <th>std</th>\n",
              "      <td>8097.883654</td>\n",
              "      <td>0.472004</td>\n",
              "      <td>0.063181</td>\n",
              "      <td>1.389171e+12</td>\n",
              "      <td>0.350428</td>\n",
              "      <td>0.264089</td>\n",
              "      <td>0.081363</td>\n",
              "    </tr>\n",
              "    <tr>\n",
              "      <th>min</th>\n",
              "      <td>0.000000</td>\n",
              "      <td>0.000000</td>\n",
              "      <td>0.000000</td>\n",
              "      <td>0.000000e+00</td>\n",
              "      <td>0.000000</td>\n",
              "      <td>0.000000</td>\n",
              "      <td>0.000000</td>\n",
              "    </tr>\n",
              "    <tr>\n",
              "      <th>25%</th>\n",
              "      <td>6876.000000</td>\n",
              "      <td>0.000000</td>\n",
              "      <td>0.000000</td>\n",
              "      <td>2.600000e+01</td>\n",
              "      <td>0.000000</td>\n",
              "      <td>0.000000</td>\n",
              "      <td>0.000000</td>\n",
              "    </tr>\n",
              "    <tr>\n",
              "      <th>50%</th>\n",
              "      <td>13753.000000</td>\n",
              "      <td>0.000000</td>\n",
              "      <td>0.000000</td>\n",
              "      <td>3.500000e+01</td>\n",
              "      <td>0.000000</td>\n",
              "      <td>0.000000</td>\n",
              "      <td>0.000000</td>\n",
              "    </tr>\n",
              "    <tr>\n",
              "      <th>75%</th>\n",
              "      <td>20629.000000</td>\n",
              "      <td>0.000000</td>\n",
              "      <td>0.000000</td>\n",
              "      <td>4.500000e+01</td>\n",
              "      <td>0.000000</td>\n",
              "      <td>0.000000</td>\n",
              "      <td>0.000000</td>\n",
              "    </tr>\n",
              "    <tr>\n",
              "      <th>max</th>\n",
              "      <td>29756.000000</td>\n",
              "      <td>21.000000</td>\n",
              "      <td>4.000000</td>\n",
              "      <td>1.900030e+13</td>\n",
              "      <td>31.000000</td>\n",
              "      <td>10.000000</td>\n",
              "      <td>7.000000</td>\n",
              "    </tr>\n",
              "  </tbody>\n",
              "</table>\n",
              "</div>"
            ],
            "text/plain": [
              "             Column  Número  total de lesionados  Número total de muertos  \\\n",
              "count  55013.000000                 28007.000000             21491.000000   \n",
              "mean   13844.814607                     0.076195                 0.003164   \n",
              "std     8097.883654                     0.472004                 0.063181   \n",
              "min        0.000000                     0.000000                 0.000000   \n",
              "25%     6876.000000                     0.000000                 0.000000   \n",
              "50%    13753.000000                     0.000000                 0.000000   \n",
              "75%    20629.000000                     0.000000                 0.000000   \n",
              "max    29756.000000                    21.000000                 4.000000   \n",
              "\n",
              "            V1_Edad  V1_No. De Lesionados  V2_No. De Lesionados  \\\n",
              "count  4.614500e+04          22314.000000          17743.000000   \n",
              "mean   1.021139e+11              0.035404              0.040861   \n",
              "std    1.389171e+12              0.350428              0.264089   \n",
              "min    0.000000e+00              0.000000              0.000000   \n",
              "25%    2.600000e+01              0.000000              0.000000   \n",
              "50%    3.500000e+01              0.000000              0.000000   \n",
              "75%    4.500000e+01              0.000000              0.000000   \n",
              "max    1.900030e+13             31.000000             10.000000   \n",
              "\n",
              "       V3_No. De Lesionados  \n",
              "count          10567.000000  \n",
              "mean               0.002271  \n",
              "std                0.081363  \n",
              "min                0.000000  \n",
              "25%                0.000000  \n",
              "50%                0.000000  \n",
              "75%                0.000000  \n",
              "max                7.000000  "
            ]
          },
          "execution_count": 77,
          "metadata": {},
          "output_type": "execute_result"
        }
      ],
      "source": [
        "mty_df.describe()"
      ]
    },
    {
      "cell_type": "code",
      "execution_count": 264,
      "metadata": {
        "colab": {
          "base_uri": "https://localhost:8080/"
        },
        "id": "7jQDF2MWyL_4",
        "outputId": "1a9dcca8-af0a-4ddb-e241-123bfb256990"
      },
      "outputs": [
        {
          "name": "stdout",
          "output_type": "stream",
          "text": [
            "<class 'pandas.core.frame.DataFrame'>\n",
            "RangeIndex: 55013 entries, 0 to 55012\n",
            "Data columns (total 50 columns):\n",
            " #   Column                       Non-Null Count  Dtype  \n",
            "---  ------                       --------------  -----  \n",
            " 0   Column                       55013 non-null  int64  \n",
            " 1   Calle                        54998 non-null  object \n",
            " 2   Causa                        48986 non-null  object \n",
            " 3   Ciudad                       55009 non-null  object \n",
            " 4   Cruce                        53444 non-null  object \n",
            " 5   Fecha                        55010 non-null  object \n",
            " 6   Hora                         51656 non-null  object \n",
            " 7   ID                           55009 non-null  object \n",
            " 8   Latitud                      25551 non-null  object \n",
            " 9   Lesionados                   27935 non-null  object \n",
            " 10  Longitud                     34515 non-null  object \n",
            " 11  Mes                          54908 non-null  object \n",
            " 12  Muertos                      22379 non-null  object \n",
            " 13  No. De Infracción            2812 non-null   object \n",
            " 14  Número  total de lesionados  28007 non-null  float64\n",
            " 15  Número total de muertos      21491 non-null  float64\n",
            " 16  Por alcohol                  19271 non-null  object \n",
            " 17  Sentido                      52590 non-null  object \n",
            " 18  Situación climática          47922 non-null  object \n",
            " 19  Situación del Pavimento      47989 non-null  object \n",
            " 20  Tipo de incidente            55013 non-null  object \n",
            " 21  Tipo de involucrado          28554 non-null  object \n",
            " 22  Tipo de vía                  42282 non-null  object \n",
            " 23  V1_Arresto                   39833 non-null  object \n",
            " 24  V1_Dictamen                  11808 non-null  object \n",
            " 25  V1_Edad                      45895 non-null  float64\n",
            " 26  V1_Estatus Licencia          48795 non-null  object \n",
            " 27  V1_Género                    50921 non-null  object \n",
            " 28  V1_No. De Fallecidos         22220 non-null  object \n",
            " 29  V1_No. De Lesionados         22314 non-null  float64\n",
            " 30  V1_Tipo de Vehículo          54923 non-null  object \n",
            " 31  V1_Uso de Cinturón           36166 non-null  object \n",
            " 32  V2_Arresto                   13969 non-null  object \n",
            " 33  V2_Dictamen                  376 non-null    object \n",
            " 34  V2_Edad                      16311 non-null  object \n",
            " 35  V2_Estatus Licencia          14972 non-null  object \n",
            " 36  V2_Género                    17053 non-null  object \n",
            " 37  V2_No. De Fallecidos         17658 non-null  object \n",
            " 38  V2_No. De Lesionados         17743 non-null  float64\n",
            " 39  V2_Tipo de Vehículo          42102 non-null  object \n",
            " 40  V2_Uso de Cinturón           8489 non-null   object \n",
            " 41  V3_Arresto                   1996 non-null   object \n",
            " 42  V3_Dictamen                  14 non-null     object \n",
            " 43  V3_Edad                      563 non-null    object \n",
            " 44  V3_Estatus Licencia          579 non-null    object \n",
            " 45  V3_Género                    656 non-null    object \n",
            " 46  V3_No. De Fallecidos         10538 non-null  object \n",
            " 47  V3_No. De Lesionados         10567 non-null  float64\n",
            " 48  V3_Tipo de Vehículo          3949 non-null   object \n",
            " 49  V3_Uso de Cinturón           227 non-null    object \n",
            "dtypes: float64(6), int64(1), object(43)\n",
            "memory usage: 21.0+ MB\n"
          ]
        }
      ],
      "source": [
        "\n",
        "mty_df.info()\n"
      ]
    },
    {
      "cell_type": "markdown",
      "metadata": {
        "id": "IxbiRxSN_VZs"
      },
      "source": [
        "<a id=\"1\"></a>\n",
        "\n",
        "## <font color='orange'> 1) Which roads appear to be the top 10 most dangerous roads of the Monterrey Metropolitan area? </font>\n",
        "\n",
        "\n"
      ]
    },
    {
      "cell_type": "code",
      "execution_count": 64,
      "metadata": {},
      "outputs": [
        {
          "data": {
            "text/plain": [
              "MORONES PRIETO      1729\n",
              "LAZARO CARDENAS     1279\n",
              "GONZALITOS          1229\n",
              "GARZA SADA          1215\n",
              "ALFONSO REYES       1153\n",
              "JOSE VASCONCELOS     964\n",
              "LEONES               891\n",
              "AV. LINCOLN          838\n",
              "CONSTITUCION         823\n",
              "FIDEL VELAZQUEZ      752\n",
              "Name: Calle, dtype: int64"
            ]
          },
          "execution_count": 64,
          "metadata": {},
          "output_type": "execute_result"
        }
      ],
      "source": [
        "#calculate the top 10 more repeated roads\n",
        "top_10_danger = mty_df.Calle.value_counts().iloc[:10]\n",
        "top_10_danger"
      ]
    },
    {
      "cell_type": "code",
      "execution_count": 265,
      "metadata": {
        "colab": {
          "base_uri": "https://localhost:8080/",
          "height": 340
        },
        "id": "kOmHSp1S_U8e",
        "outputId": "93c50142-bcec-427e-8b10-4b56ef252b02"
      },
      "outputs": [
        {
          "data": {
            "text/plain": [
              "Text(0.5, 1.0, 'Top 10 dangerous roads in Monterrey (reported collisions) ')"
            ]
          },
          "execution_count": 265,
          "metadata": {},
          "output_type": "execute_result"
        },
        {
          "data": {
            "image/png": "[encoded data removed]",
            "text/plain": [
              "<Figure size 864x432 with 1 Axes>"
            ]
          },
          "metadata": {
            "needs_background": "light"
          },
          "output_type": "display_data"
        }
      ],
      "source": [
        "#just plot the top 10 in a count plot\n",
        "plt.figure(figsize = (12, 6))\n",
        "sns.countplot(data=mty_df, y='Calle', order=top_10_danger.index)\n",
        "plt.title('Top 10 dangerous roads in Monterrey (reported collisions) ')\n"
      ]
    },
    {
      "cell_type": "markdown",
      "metadata": {},
      "source": [
        "## Preliminary conclusions for Q1\n",
        "\n",
        "We obtain the top 10 streets with the most incidents within the dataframe (and since each observation of the df represents a collision).\n",
        "\n",
        "The preliminary analysis indicates that MORONES PRIETO is the most dangerous street with more than 1700 incidents, followed by LAZARO CARDENAS, GONZALITOS and GARZA SADA who oscillate around 1200.\n",
        "\n",
        "At this preliminary point, the question arises as to what makes a dangerous road? The ones that have fatal accidents?\n",
        "\n",
        "<hr>\n"
      ]
    },
    {
      "cell_type": "markdown",
      "metadata": {},
      "source": [
        "<a id=\"2\"></a>\n",
        "\n",
        "## <font color='orange'> 2) What's the age group with the overall highest number of reported collisions?  </font> You can consider any age groupings for the purposes of this question. Explain this in a graphical way."
      ]
    },
    {
      "cell_type": "code",
      "execution_count": 183,
      "metadata": {},
      "outputs": [
        {
          "data": {
            "text/plain": [
              "                  8868\n",
              "30                1525\n",
              "27                1494\n",
              "25                1488\n",
              "26                1482\n",
              "                  ... \n",
              "19000225000000       1\n",
              "19000119000000       1\n",
              "90                   1\n",
              "94                   1\n",
              "9                    1\n",
              "Name: V1_Edad, Length: 134, dtype: int64"
            ]
          },
          "execution_count": 183,
          "metadata": {},
          "output_type": "execute_result"
        }
      ],
      "source": [
        "#clean the column edad from non digits\n",
        "mty_df['V1_Edad'] = mty_df['V1_Edad'].map(lambda x: ''.join([i for i in str(x) if i.isdigit()]) )\n",
        "#replace all empty strings or spaces with a None on every column\n",
        "mty_df = mty_df.replace(r'^\\s*$', None, regex=True)\n",
        "mty_df.V1_Edad.value_counts()"
      ]
    },
    {
      "cell_type": "code",
      "execution_count": 184,
      "metadata": {},
      "outputs": [
        {
          "data": {
            "text/plain": [
              "30.0    1525\n",
              "27.0    1494\n",
              "25.0    1488\n",
              "26.0    1482\n",
              "34.0    1468\n",
              "        ... \n",
              "6.0        1\n",
              "89.0       1\n",
              "96.0       1\n",
              "7.0        1\n",
              "9.0        1\n",
              "Name: V1_Edad, Length: 86, dtype: int64"
            ]
          },
          "execution_count": 184,
          "metadata": {},
          "output_type": "execute_result"
        }
      ],
      "source": [
        "#set to None the elements with a value higher than 100 (we have typos like 19000225000000 )\n",
        "mty_df['V1_Edad'] = mty_df['V1_Edad'].map(lambda x:  int(x) if x and int(x) < 100 else None ) \n",
        "mty_df.V1_Edad.value_counts()"
      ]
    },
    {
      "cell_type": "code",
      "execution_count": 210,
      "metadata": {},
      "outputs": [
        {
          "data": {
            "text/plain": [
              "Text(0.5, 1.0, 'Boxplot of age distribution ')"
            ]
          },
          "execution_count": 210,
          "metadata": {},
          "output_type": "execute_result"
        },
        {
          "data": {
            "image/png": "[encoded data removed]",
            "text/plain": [
              "<Figure size 864x432 with 1 Axes>"
            ]
          },
          "metadata": {
            "needs_background": "light"
          },
          "output_type": "display_data"
        }
      ],
      "source": [
        "#double check the distribution with a boxplot \n",
        "plt.figure(figsize = (12, 6))\n",
        "sns.boxplot(x=mty_df.V1_Edad)\n",
        "plt.title('Boxplot of age distribution ')\n"
      ]
    },
    {
      "cell_type": "code",
      "execution_count": 266,
      "metadata": {},
      "outputs": [
        {
          "data": {
            "text/plain": [
              "<matplotlib.lines.Line2D at 0x1c1114d15b0>"
            ]
          },
          "execution_count": 266,
          "metadata": {},
          "output_type": "execute_result"
        },
        {
          "data": {
            "image/png": "[encoded data removed]",
            "text/plain": [
              "<Figure size 864x432 with 1 Axes>"
            ]
          },
          "metadata": {
            "needs_background": "light"
          },
          "output_type": "display_data"
        }
      ],
      "source": [
        "\n",
        "plt.figure(figsize = (12, 6))\n",
        "# set the bins of size 5 from 0 to 100\n",
        "bins = np.arange(0, 110, 5)\n",
        "fig = sns.histplot(mty_df['V1_Edad'], bins=bins)\n",
        "plt.title('Reported collisions by age (grouped by 5 years) ')\n",
        "#custom ticks to make more sense of the custom bins\n",
        "plt.xticks(np.arange(0, 110, 10))\n",
        "# lines to delimit the highest age group\n",
        "plt.axvline(25, 0, 1, color = \"r\")\n",
        "plt.axvline(30, 0, 1,color=\"r\")\n"
      ]
    },
    {
      "cell_type": "markdown",
      "metadata": {},
      "source": [
        "## Preliminary conclusions for Q2\n",
        "\n",
        "After manipulating the 'V1_Edad' feature in order to only contain valid ages, we can determine that the age group from 25 to 30 has the highest number of reported collisions (taking in cosideration that the agegrouping was 5 years)\n",
        "\n",
        "Further, we can also depict that after this specific age group the tendency of collisions decrease uniformly as the years goes. \n",
        "\n",
        "<hr>"
      ]
    },
    {
      "cell_type": "markdown",
      "metadata": {},
      "source": [
        " <a id=\"3\"></a>\n",
        "\n",
        " ## <font color='orange'> 3) If you were to see a collision in the \"Garza Sada\" road, What would be the odds for that person to have any type of positive alcohol ingestion opinion? </font> \n"
      ]
    },
    {
      "cell_type": "markdown",
      "metadata": {},
      "source": [
        "### Given :\n",
        "\n",
        "\n",
        "$Odds$(in favor of A) $= \\frac{P(A)}{P(not A)}$\n"
      ]
    },
    {
      "cell_type": "code",
      "execution_count": 144,
      "metadata": {},
      "outputs": [
        {
          "data": {
            "text/plain": [
              "No                    12432\n",
              "Ninguno                3254\n",
              "Sí                     1797\n",
              "SD                     1342\n",
              "No ebrio                369\n",
              "Ebrio completo           52\n",
              "Ebrio incompleto         10\n",
              "HUYO                      9\n",
              "Aliento alcohólico        5\n",
              "Efectos de droga          1\n",
              "Name: Por alcohol, dtype: int64"
            ]
          },
          "execution_count": 144,
          "metadata": {},
          "output_type": "execute_result"
        }
      ],
      "source": [
        "mty_df[\"Por alcohol\"].value_counts()"
      ]
    },
    {
      "cell_type": "code",
      "execution_count": 193,
      "metadata": {},
      "outputs": [
        {
          "name": "stdout",
          "output_type": "stream",
          "text": [
            "total:  1215\n",
            "favorable:  82\n",
            "unfavorable:  1133\n",
            "________________________\n",
            "odds collision in Garza Sada and alcohol ingestion: 82 to 1133\n"
          ]
        }
      ],
      "source": [
        "# list that correspond to any alcohol ingestion\n",
        "alcohol_ingestion = [\"Sí\", \"Ebrio completo\" , \"Ebrio incompleto\",\"Aliento alcohólico\"]\n",
        "#total observations where a collision in GARZA SADA is observed \n",
        "total = mty_df[(mty_df[\"Calle\"] == \"GARZA SADA\")].count()[\"Calle\"]\n",
        "#observations where a collision in GARZA SADA and alcohol ingestion is observed\n",
        "favorable = mty_df[(mty_df[\"Calle\"] == \"GARZA SADA\") & (mty_df[\"Por alcohol\"].isin(alcohol_ingestion))].count()[\"Calle\"]\n",
        "#observations where a collision in GARZA SADA and alcohol ingestion is NOT observed\n",
        "unfavorable = total - favorable\n",
        "\n",
        "print(\"total: \", total)\n",
        "print(\"favorable: \", favorable)\n",
        "print(\"unfavorable: \", unfavorable)\n",
        "#odds = favorable / unfavorable\n",
        "print(\"________________________\")\n",
        "print(\"odds collision in Garza Sada and alcohol ingestion:\", str(favorable) +\" to \"+ str(unfavorable))\n",
        "\n"
      ]
    },
    {
      "cell_type": "markdown",
      "metadata": {},
      "source": [
        "\n",
        "<hr>\n"
      ]
    },
    {
      "cell_type": "markdown",
      "metadata": {},
      "source": [
        " <a id=\"4\"></a>\n",
        "\n",
        " ## <font color='orange'> 4) Why do you think we use the phrase \"appear to be\"in question 1? What would you need to be able to speak with more confidence about the answer to that question?  </font>\n",
        "\n",
        "  IT is needed to able to speak about what \"dangerous\" means, can it be the road with more collitions or, more injured or even more deaths on a given road "
      ]
    },
    {
      "cell_type": "code",
      "execution_count": 205,
      "metadata": {},
      "outputs": [
        {
          "data": {
            "text/plain": [
              "Lesionados\n",
              "No            24059\n",
              "0              1985\n",
              "SD              946\n",
              "Sí              865\n",
              "1                62\n",
              "2                10\n",
              "3                 6\n",
              "4                 1\n",
              "5                 1\n",
              "dtype: int64"
            ]
          },
          "execution_count": 205,
          "metadata": {},
          "output_type": "execute_result"
        }
      ],
      "source": [
        "mty_df.value_counts([ \"Lesionados\"])"
      ]
    },
    {
      "cell_type": "code",
      "execution_count": 235,
      "metadata": {},
      "outputs": [
        {
          "data": {
            "text/plain": [
              "AV. LINCOLN              34\n",
              "BLVD HEBERTO CASTILLO    18\n",
              "JOSE VASCONCELOS         17\n",
              "AZTLAN                   17\n",
              "MORONES PRIETO           16\n",
              "BERNARDO REYES           16\n",
              "LINCOLN                  15\n",
              "RAUL SALINAS             13\n",
              "ALFONSO REYES            13\n",
              "GARZA SADA               13\n",
              "Name: Calle, dtype: int64"
            ]
          },
          "execution_count": 235,
          "metadata": {},
          "output_type": "execute_result"
        }
      ],
      "source": [
        "#top_10_danger\n",
        "lesionados_list = [\"Sí\",\"1\",\"2\",\"3\",\"4\",\"5\"]\n",
        "#subseting the df\n",
        "lesionados_df = mty_df[mty_df[\"Lesionados\"].isin(lesionados_list)]\n",
        "# get the top 10 \n",
        "top_10_lesionados = pd.value_counts(lesionados_df[\"Calle\"]).iloc[:10]\n",
        "\n",
        "top_10_lesionados"
      ]
    },
    {
      "cell_type": "code",
      "execution_count": 236,
      "metadata": {},
      "outputs": [
        {
          "data": {
            "text/plain": [
              "Text(0.5, 1.0, 'Top 10 more dangerous roads in Monterrey (injured) ')"
            ]
          },
          "execution_count": 236,
          "metadata": {},
          "output_type": "execute_result"
        },
        {
          "data": {
            "image/png": "[encoded data removed]",
            "text/plain": [
              "<Figure size 864x432 with 1 Axes>"
            ]
          },
          "metadata": {
            "needs_background": "light"
          },
          "output_type": "display_data"
        }
      ],
      "source": [
        "plt.figure(figsize = (12, 6))\n",
        "sns.countplot(data=lesionados_df, y='Calle',order=top_10_lesionados.index )\n",
        "plt.title('Top 10 more dangerous roads in Monterrey (injured) ')"
      ]
    },
    {
      "cell_type": "code",
      "execution_count": 237,
      "metadata": {},
      "outputs": [
        {
          "data": {
            "text/plain": [
              "Muertos  \n",
              "No           19943\n",
              "0             2020\n",
              "Sí             362\n",
              "SD              43\n",
              "1                6\n",
              "HUYO             3\n",
              "SE RETIRO        2\n",
              "dtype: int64"
            ]
          },
          "execution_count": 237,
          "metadata": {},
          "output_type": "execute_result"
        }
      ],
      "source": [
        "mty_df.value_counts([\"Muertos\"])"
      ]
    },
    {
      "cell_type": "code",
      "execution_count": 240,
      "metadata": {},
      "outputs": [
        {
          "data": {
            "text/plain": [
              "AZTLAN            15\n",
              "MADERO            11\n",
              "JUAREZ             9\n",
              "COLON              9\n",
              "LEONES             7\n",
              "RUIZ CORTINEZ      7\n",
              "LUIS D COLOSIO     7\n",
              "CAMINO REAL        6\n",
              "MORONES PRIETO     6\n",
              "PINO SUAREZ        6\n",
              "Name: Calle, dtype: int64"
            ]
          },
          "execution_count": 240,
          "metadata": {},
          "output_type": "execute_result"
        }
      ],
      "source": [
        "muertos_list = [\"Sí\",\"1\"]\n",
        "#subseting the df\n",
        "muertos_df = mty_df[mty_df[\"Muertos\"].isin(muertos_list)]\n",
        "# get the top 10 \n",
        "top_10_muertos = pd.value_counts(muertos_df[\"Calle\"]).iloc[:10]\n",
        "\n",
        "\n",
        "top_10_muertos"
      ]
    },
    {
      "cell_type": "code",
      "execution_count": 241,
      "metadata": {},
      "outputs": [
        {
          "data": {
            "text/plain": [
              "Text(0.5, 1.0, 'Top 10 more dangerous roads in Monterrey (Deaths) ')"
            ]
          },
          "execution_count": 241,
          "metadata": {},
          "output_type": "execute_result"
        },
        {
          "data": {
            "image/png": "[encoded data removed]",
            "text/plain": [
              "<Figure size 864x432 with 1 Axes>"
            ]
          },
          "metadata": {
            "needs_background": "light"
          },
          "output_type": "display_data"
        }
      ],
      "source": [
        "plt.figure(figsize = (12, 6))\n",
        "sns.countplot(data=muertos_df, y='Calle',order=top_10_muertos.index )\n",
        "plt.title('Top 10 more dangerous roads in Monterrey (Deaths)')"
      ]
    },
    {
      "cell_type": "markdown",
      "metadata": {},
      "source": [
        "## Preliminary conclusions for Q4\n",
        "\n",
        "It is needed to be able to talk about what \"dangerous\" means, can it be the road with the most collisions or, more injuries or even more deaths on a given road?\n",
        " \n",
        "We can depict in the following chart that MORONES PRIETO althoug is the street with more collisions, is the 5th street with more injured indicents and the 9th in deaths.\n",
        "\n",
        "Aslo AZTLAN road is not on the top 10 collitions but its the highest on deaths.\n",
        "\n",
        "maybe a muiltivariate index with the aforementioned features can state how dangerous a given road is. \n",
        "\n",
        "\n"
      ]
    },
    {
      "cell_type": "code",
      "execution_count": 263,
      "metadata": {},
      "outputs": [
        {
          "data": {
            "image/png": "[encoded data removed]",
            "text/plain": [
              "<Figure size 576x720 with 3 Axes>"
            ]
          },
          "metadata": {
            "needs_background": "light"
          },
          "output_type": "display_data"
        }
      ],
      "source": [
        "f,axs=plt.subplots(nrows= 3,ncols= 1,figsize=(8,10))\n",
        "#top 10 collitions\n",
        "sns.countplot(data=mty_df, y='Calle', order=top_10_danger.index, ax=axs[0])\n",
        "axs[0].set_title('Collisions')\n",
        "axs[0].set_ylabel('')\n",
        "axs[0].set_xlabel('')\n",
        "\n",
        "# top 10 injured\n",
        "sns.countplot(data=lesionados_df, y='Calle',order=top_10_lesionados.index , ax=axs[1])\n",
        "axs[1].set_title('Injured')\n",
        "axs[1].set_xlabel('')\n",
        "\n",
        "#top 10 death\n",
        "\n",
        "sns.countplot(data=muertos_df, y='Calle',order=top_10_muertos.index, ax=axs[2] )\n",
        "axs[2].set_title('Deaths')\n",
        "axs[2].set_ylabel('')\n",
        "\n",
        "f.tight_layout()"
      ]
    },
    {
      "cell_type": "markdown",
      "metadata": {},
      "source": [
        "<hr>"
      ]
    },
    {
      "cell_type": "markdown",
      "metadata": {},
      "source": [
        " <a id=\"5\"></a>\n",
        " ## <font color='orange'> 5) What modeling project would you push to develop from the conclusions in this dataset?\" </font>"
      ]
    },
    {
      "cell_type": "code",
      "execution_count": 244,
      "metadata": {},
      "outputs": [
        {
          "data": {
            "text/plain": [
              "1899-12-30 00:00:00    20381\n",
              "SD                       222\n",
              "8                        132\n",
              "18:00:00                 130\n",
              "13                       122\n",
              "                       ...  \n",
              "2016-08-10 10:52:46        1\n",
              "2016-08-10 10:33:51        1\n",
              "2016-08-10 10:05:48        1\n",
              "2016-08-10 09:47:29        1\n",
              "05:05:00 a.m.              1\n",
              "Name: Hora, Length: 8642, dtype: int64"
            ]
          },
          "execution_count": 244,
          "metadata": {},
          "output_type": "execute_result"
        }
      ],
      "source": [
        "mty_df.Hora.value_counts()"
      ]
    },
    {
      "cell_type": "markdown",
      "metadata": {},
      "source": [
        "If we talk about modeling behavior over time, such as determining the number of collisions or injuries per day and predicting those of the following days, we could use the tools of a TSA (after clean and combine 'Fecha' and 'Hora'), such as ARIMA models (statsmodels)."
      ]
    },
    {
      "cell_type": "markdown",
      "metadata": {},
      "source": [
        "On the other hand, if we want to do classification or regression tasks, we can do an exploration of learning pipelines using AutoML tools such as Auto-Sklearn."
      ]
    },
    {
      "cell_type": "markdown",
      "metadata": {
        "id": "vAupQhi7elDh"
      },
      "source": [
        "<a id=\"5.1\"></a>\n",
        "## 5.1 AutoML and Auto-Sklearn\n",
        "\n",
        "\n",
        "\n",
        "This image taken from Azure's AutoML service illustrates the panorama.\n",
        "\n",
        "\n",
        "<center> <p><img class = \"center\" src=\"https://i0.wp.com/neptune.ai/wp-content/uploads/Microsoft-Azure-AutoML.png\" width=\"700\" height=\"350\" alt=\"autoML\"></p> </center>\n",
        "\n",
        "### 5.1.1 Auto-Sklearn\n",
        "auto-sklearn is based on defining AutoML as a CASH problem.\n",
        "\n",
        "CASH = (Combined Algorithm Selection and Hyperparameter optimization) o Selection of combined algorithms and hyperparameter optimization.\n",
        "\n",
        "Simply put, we want to find the best ML model and its hyperparameter for a data set in a vast search space, which includes many classifiers and many hyperparameters. In the following figure, you can see a representation of auto-sklearn provided by its authors.\n",
        "\n",
        "\n",
        "<center> <p><img class = \"center\" src=\"https://i1.wp.com/neptune.ai/wp-content/uploads/AutoML-system.png\" width=\"900\" height=\"150\" alt=\"Auto-sklearn\"></p> </center>\n",
        "\n"
      ]
    },
    {
      "cell_type": "markdown",
      "metadata": {
        "id": "q32dZZl0Aa2Y"
      },
      "source": [
        "## 5.2 pipeline profiler\n",
        "\n",
        "a pipeline profiler is a library intended to produce detailed visualizations of autoMl pipelines.\n",
        "\n",
        "<center> <p><img class = \"center\" src=\"https://miro.medium.com/max/700/1*xfmgKt_v1lVRlTN0zcqQBA.png\n",
        "\" width=\"600\" height=\"450\" alt=\"Auto-sklearn\"></p> </center>\n",
        "\n",
        "Figure 1 shows *PipelineProfiler* applied to the *Digits* dataset. The system is divided into three parts.\n",
        "- 1) The primitive contribution, which shows the correlation of the primitive use with the score of the determined pipeline.\n",
        "\n",
        "- 2) Pipeline Matrix, which presents a summary of the pipelines, the primitives used and the hyperparameters.\n",
        "\n",
        "- 3) The pipeline comparison view, which highlights the differences between the selected pipelines."
      ]
    },
    {
      "cell_type": "markdown",
      "metadata": {
        "id": "M7rUHmJPDCzU"
      },
      "source": [
        "\n",
        "In conclusion we could use Auto-Sklearn combined with a *PipelineProfiler* to observe in detail the different combinations of different preprocesses, classifiers and hyperparameters that were used to obtain the best model and once we are sure to send the appropriate model to production.\n",
        "\n",
        "posible modeling projects to explore from the conclusions:\n",
        "\n",
        "-  <font color='purple'> based on the road, datetime, and acohol ingestion determine if a given colission has death or not (classification)   </font>\n",
        "\n",
        "- <font color='purple'> based previous obervations predict the number of collisions or injuries the next days (TSA) </font>\n",
        "\n",
        "- <font color='purple'> based on the road, datetime, and acohol ingestion determine determine how many injured persons will be (regression)  </font>\n",
        "\n",
        "<hr>"
      ]
    }
  ],
  "metadata": {
    "colab": {
      "collapsed_sections": [],
      "name": "Científico de Datos @ nowports.ipynb",
      "provenance": []
    },
    "interpreter": {
      "hash": "6726af48e2a0ee5cd4f9d51bb7ddccc7802c42f302d2499986e0f30ff11ec765"
    },
    "kernelspec": {
      "display_name": "Python 3.9.7 64-bit",
      "name": "python3"
    },
    "language_info": {
      "codemirror_mode": {
        "name": "ipython",
        "version": 3
      },
      "file_extension": ".py",
      "mimetype": "text/x-python",
      "name": "python",
      "nbconvert_exporter": "python",
      "pygments_lexer": "ipython3",
      "version": "3.9.7"
    }
  },
  "nbformat": 4,
  "nbformat_minor": 0
}
